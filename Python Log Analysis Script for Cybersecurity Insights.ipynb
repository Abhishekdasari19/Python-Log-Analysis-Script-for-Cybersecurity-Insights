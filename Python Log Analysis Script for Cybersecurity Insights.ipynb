{
 "cells": [
  {
   "cell_type": "code",
   "execution_count": 1,
   "id": "0cbc7aed",
   "metadata": {},
   "outputs": [],
   "source": [
    "import re\n",
    "import csv  \n",
    "from collections import Counter "
   ]
  },
  {
   "cell_type": "code",
   "execution_count": 2,
   "id": "dea7dea7",
   "metadata": {},
   "outputs": [],
   "source": [
    "def read_log_file(file_path):\n",
    "    with open(file_path, \"r\") as file:\n",
    "        return file.readlines()\n",
    "\n",
    "def count_requests_per_ip(log_lines):\n",
    "    ip_pattern = r\"(\\d+\\.\\d+\\.\\d+\\.\\d+)\"\n",
    "    ip_counts = Counter(re.search(ip_pattern, line).group() for line in log_lines if re.search(ip_pattern, line))\n",
    "    return ip_counts\n",
    "\n",
    "def find_most_accessed_endpoint(log_lines):\n",
    "    endpoint_pattern = r\"\\\"[A-Z]+\\s(\\/\\S*)\\sHTTP\\/\" \n",
    "    endpoints = [re.search(endpoint_pattern, line).group(1) for line in log_lines if re.search(endpoint_pattern, line)]\n",
    "    endpoint_counts = Counter(endpoints)\n",
    "    return endpoint_counts.most_common(1)[0] \n",
    "\n",
    "def detect_suspicious_activity(log_lines, threshold):\n",
    "    suspicious_pattern = r\"(\\d+\\.\\d+\\.\\d+\\.\\d+).+\\\"POST\\s\\/login.+401\" \n",
    "    failed_logins = Counter(re.search(suspicious_pattern, line).group(1) for line in log_lines if re.search(suspicious_pattern, line))\n",
    "    return {ip: count for ip, count in failed_logins.items() if count > threshold}\n"
   ]
  },
  {
   "cell_type": "code",
   "execution_count": 3,
   "id": "35afc2f0",
   "metadata": {},
   "outputs": [],
   "source": [
    "def save_to_csv(ip_counts, most_accessed_endpoint, suspicious_activity, output_file):\n",
    "    with open(output_file, \"w\", newline=\"\") as csvfile:\n",
    "        writer = csv.writer(csvfile)\n",
    "        \n",
    "        writer.writerow([\"IP Address\", \"Request Count\"])\n",
    "        for ip, count in ip_counts.items():\n",
    "            writer.writerow([ip, count])\n",
    "        \n",
    "        writer.writerow([])  \n",
    "        writer.writerow([\"Endpoint\", \"Access Count\"])\n",
    "        writer.writerow([most_accessed_endpoint[0], most_accessed_endpoint[1]])\n",
    "        \n",
    "        writer.writerow([]) \n",
    "        writer.writerow([\"IP Address\", \"Failed Login Count\"])\n",
    "        for ip, count in suspicious_activity.items():\n",
    "            writer.writerow([ip, count])\n"
   ]
  },
  {
   "cell_type": "code",
   "execution_count": 7,
   "id": "bb7115aa",
   "metadata": {},
   "outputs": [
    {
     "name": "stdout",
     "output_type": "stream",
     "text": [
      "Requests per IP Address:\n",
      "192.168.1.1          2\n",
      "203.0.113.5          2\n",
      "10.0.0.2             1\n",
      "198.51.100.23        1\n",
      "\n",
      "Most Frequently Accessed Endpoint:\n",
      "/login (Accessed 2 times)\n",
      "\n",
      "Suspicious Activity Detected:\n",
      "\n",
      "Results saved to 'log_analysis_results.csv'\n"
     ]
    }
   ],
   "source": [
    "log_file = \"sample.log\"  \n",
    "failed_login_threshold = 10 \n",
    "\n",
    "log_lines = read_log_file(log_file)\n",
    "\n",
    "ip_counts = count_requests_per_ip(log_lines)\n",
    "most_accessed_endpoint = find_most_accessed_endpoint(log_lines)\n",
    "suspicious_activity = detect_suspicious_activity(log_lines, failed_login_threshold)\n",
    "\n",
    "print(\"Requests per IP Address:\")\n",
    "for ip, count in ip_counts.items():\n",
    "    print(f\"{ip:20} {count}\")\n",
    "\n",
    "print(\"\\nMost Frequently Accessed Endpoint:\")\n",
    "print(f\"{most_accessed_endpoint[0]} (Accessed {most_accessed_endpoint[1]} times)\")\n",
    "\n",
    "print(\"\\nSuspicious Activity Detected:\")\n",
    "for ip, count in suspicious_activity.items():\n",
    "    print(f\"{ip:20} {count}\")\n",
    "\n",
    "# Save results to CSV\n",
    "save_to_csv(ip_counts, most_accessed_endpoint, suspicious_activity, \"log_analysis_results.csv\")\n",
    "print(\"\\nResults saved to 'log_analysis_results.csv'\")\n"
   ]
  },
  {
   "cell_type": "code",
   "execution_count": null,
   "id": "2ed8e94e",
   "metadata": {},
   "outputs": [],
   "source": []
  }
 ],
 "metadata": {
  "kernelspec": {
   "display_name": "Python 3 (ipykernel)",
   "language": "python",
   "name": "python3"
  },
  "language_info": {
   "codemirror_mode": {
    "name": "ipython",
    "version": 3
   },
   "file_extension": ".py",
   "mimetype": "text/x-python",
   "name": "python",
   "nbconvert_exporter": "python",
   "pygments_lexer": "ipython3",
   "version": "3.11.4"
  }
 },
 "nbformat": 4,
 "nbformat_minor": 5
}
